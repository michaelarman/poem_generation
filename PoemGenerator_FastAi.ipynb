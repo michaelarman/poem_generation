{
  "nbformat": 4,
  "nbformat_minor": 0,
  "metadata": {
    "accelerator": "GPU",
    "colab": {
      "name": "PoemGenerator_FastAi.ipynb",
      "provenance": [],
      "collapsed_sections": [],
      "toc_visible": true
    },
    "kernelspec": {
      "display_name": "Python 3",
      "name": "python3"
    }
  },
  "cells": [
    {
      "cell_type": "markdown",
      "metadata": {
        "id": "HTYTRlgEInNS"
      },
      "source": [
        "# Poem Generation using FastAI\n"
      ]
    },
    {
      "cell_type": "markdown",
      "metadata": {
        "id": "mM0YJ6eu6Vkk"
      },
      "source": [
        "In this tutorial you will see how to fine-tune a pretrained transformer model from the transformers library by HuggingFace. It can be very simple with FastAI's data loaders. It's possible to use any of the pretrained models from HuggingFace. Below we will experiment with GPT2. "
      ]
    },
    {
      "cell_type": "markdown",
      "metadata": {
        "id": "-FVVxuGPI2-e"
      },
      "source": [
        "## Import Libraries\n"
      ]
    },
    {
      "cell_type": "code",
      "metadata": {
        "id": "FGGMBbBuL_SA"
      },
      "source": [
        "# install fastai and log into google drive\n",
        "!pip install -Uqq fastbook\n",
        "!pip install -Uq transformers\n",
        "import fastbook\n",
        "fastbook.setup_book()\n"
      ],
      "execution_count": 1,
      "outputs": []
    },
    {
      "cell_type": "code",
      "metadata": {
        "id": "Jd51B8ZYIaky"
      },
      "source": [
        "from fastbook import *\n",
        "from fastai.text.all import *\n",
        "from transformers import GPT2LMHeadModel, GPT2TokenizerFast"
      ],
      "execution_count": 2,
      "outputs": []
    },
    {
      "cell_type": "code",
      "metadata": {
        "id": "alC0xd-aNjKF"
      },
      "source": [
        "pretrained_weights = 'gpt2'\n",
        "tokenizer = GPT2TokenizerFast.from_pretrained(pretrained_weights)\n",
        "model = GPT2LMHeadModel.from_pretrained(pretrained_weights)"
      ],
      "execution_count": 3,
      "outputs": []
    },
    {
      "cell_type": "markdown",
      "metadata": {
        "id": "-VxqkIvvJ9gv"
      },
      "source": [
        "## Read Data\n",
        "This data is organized by folder. There are two main folders: forms (e.g. haiku, sonnet, etc.) and topics (e.g. love, peace, etc.). Those main folders contain subfolders for the subcategories and then the poem txt files are contained in those.\n",
        "With fastai, it's quite easy to read the data with the the get_text_files function. You can select all folders or select specific ones."
      ]
    },
    {
      "cell_type": "code",
      "metadata": {
        "id": "8CIpgsfMQPfu"
      },
      "source": [
        "path = '/content/gdrive/My Drive/data/poems'"
      ],
      "execution_count": 4,
      "outputs": []
    },
    {
      "cell_type": "code",
      "metadata": {
        "id": "rOZu9LCfMVPZ",
        "colab": {
          "base_uri": "https://localhost:8080/"
        },
        "outputId": "9b6be92a-14cd-40e6-e0f6-720ff9c92774"
      },
      "source": [
        "poems = get_text_files(path, folders = ['forms','topics'])\n",
        "print(\"There are\",len(poems),\"poems in the dataset\")"
      ],
      "execution_count": 6,
      "outputs": [
        {
          "output_type": "stream",
          "text": [
            "There are 20657 poems in the dataset\n"
          ],
          "name": "stdout"
        }
      ]
    },
    {
      "cell_type": "markdown",
      "metadata": {
        "id": "u9REr2f9676E"
      },
      "source": [
        "We'll start off with training the model on ballads. There are only 100 ballads so it won't take as long to train. However you can add more poem forms. For instance, a haiku would be very cool to experiment with and to see if it maintains the 5,7,5 syllable structure."
      ]
    },
    {
      "cell_type": "code",
      "metadata": {
        "colab": {
          "base_uri": "https://localhost:8080/"
        },
        "id": "D6HsJQLtJ9P2",
        "outputId": "c91cf59c-5e5f-4248-9aac-1dbe2ae6ab08"
      },
      "source": [
        "ballads = get_text_files(path+'/forms', folders = ['ballad'])\r\n",
        "print(\"There are\",len(ballads),\"ballads in the dataset\")"
      ],
      "execution_count": 7,
      "outputs": [
        {
          "output_type": "stream",
          "text": [
            "There are 100 ballads in the dataset\n"
          ],
          "name": "stdout"
        }
      ]
    },
    {
      "cell_type": "code",
      "metadata": {
        "id": "aff_yTWDMlkm",
        "colab": {
          "base_uri": "https://localhost:8080/"
        },
        "outputId": "d59f2fff-0c13-40dc-bf09-97881ee40987"
      },
      "source": [
        "txt = poems[0].open().read(); #read the first file\n",
        "print(txt)"
      ],
      "execution_count": 8,
      "outputs": [
        {
          "output_type": "stream",
          "text": [
            "Little maidens, when you look\n",
            "On this little story-book,\n",
            "Reading with attentive eye\n",
            "Its enticing history,\n",
            "Never think that hours of play\n",
            "Are your only HOLIDAY,\n",
            "And that in a HOUSE of joy\n",
            "Lessons serve but to annoy:\n",
            "If in any HOUSE you find\n",
            "Children of a gentle mind,\n",
            "Each the others pleasing ever--\n",
            "Each the others vexing never--\n",
            "Daily work and pastime daily\n",
            "In their order taking gaily--\n",
            "Then be very sure that they\n",
            "Have a life of HOLIDAY.\n"
          ],
          "name": "stdout"
        }
      ]
    },
    {
      "cell_type": "markdown",
      "metadata": {
        "id": "AAiN7YVH8HwX"
      },
      "source": [
        "## Prepare the Data\r\n",
        "\r\n"
      ]
    },
    {
      "cell_type": "code",
      "metadata": {
        "id": "b2-JJ8BGIgMU"
      },
      "source": [
        "ballads = L(o.open().read() for o in ballads) # to make things easy we will gather all texts in one numpy array"
      ],
      "execution_count": 9,
      "outputs": []
    },
    {
      "cell_type": "code",
      "metadata": {
        "id": "Lu4ek-rIIn84"
      },
      "source": [
        "def flatten(A):\r\n",
        "    rt = []\r\n",
        "    for i in A:\r\n",
        "        if isinstance(i,list): rt.extend(flatten(i))\r\n",
        "        else: rt.append(i)\r\n",
        "    return rt\r\n",
        "  \r\n",
        "all_ballads = flatten(ballads)"
      ],
      "execution_count": 10,
      "outputs": []
    },
    {
      "cell_type": "code",
      "metadata": {
        "id": "XHPQpvvbabmj"
      },
      "source": [
        "class TransformersTokenizer(Transform):\n",
        "    def __init__(self, tokenizer): self.tokenizer = tokenizer\n",
        "    def encodes(self, x): \n",
        "        toks = self.tokenizer.tokenize(x)\n",
        "        return tensor(self.tokenizer.convert_tokens_to_ids(toks))\n",
        "    def decodes(self, x): return TitledStr(self.tokenizer.decode(x.cpu().numpy()))"
      ],
      "execution_count": 11,
      "outputs": []
    },
    {
      "cell_type": "code",
      "metadata": {
        "id": "KEdmTZR7NG5E"
      },
      "source": [
        "splits = [range_of(70), range(100)] # use a 70/30 split\r\n",
        "tls = TfmdLists(all_ballads, TransformersTokenizer(tokenizer), splits=splits, dl_type=LMDataLoader)"
      ],
      "execution_count": 12,
      "outputs": []
    },
    {
      "cell_type": "code",
      "metadata": {
        "colab": {
          "base_uri": "https://localhost:8080/"
        },
        "id": "0O-QWa9LN1IK",
        "outputId": "7aecbf08-6d2e-4016-c2b5-d124d4e94329"
      },
      "source": [
        "show_at(tls.train, 0)"
      ],
      "execution_count": 13,
      "outputs": [
        {
          "output_type": "stream",
          "text": [
            "The ring is on my hand,\n",
            "And the wreath is on my brow;\n",
            "Satin and jewels grand\n",
            "Are all at my command,\n",
            "And I am happy now.\n",
            "And my lord he loves me well;\n",
            "But, when first he breathed his vow,\n",
            "I felt my bosom swell-\n",
            "For the words rang as a knell,\n",
            "And the voice seemed his who fell\n",
            "In the battle down the dell,\n",
            "And who is happy now.\n",
            "But he spoke to re-assure me,\n",
            "And he kissed my pallid brow,\n",
            "While a reverie came o'er me,\n",
            "And to the church-yard bore me,\n",
            "And I sighed to him before me,\n",
            "Thinking him dead D'Elormie,\n",
            "\"Oh, I am happy now!\"\n",
            "And thus the words were spoken,\n",
            "And this the plighted vow,\n",
            "And, though my faith be broken,\n",
            "And, though my heart be broken,\n",
            "Here is a ring, as token\n",
            "That I am happy now!\n",
            "Would God I could awaken!\n",
            "For I dream I know not how!\n",
            "And my soul is sorely shaken\n",
            "Lest an evil step be taken,-\n",
            "Lest the dead who is forsaken\n",
            "May not be happy now.\n"
          ],
          "name": "stdout"
        }
      ]
    },
    {
      "cell_type": "code",
      "metadata": {
        "id": "Fv2mSN4LOHob"
      },
      "source": [
        "bs,sl = 4,256\r\n",
        "dls = tls.dataloaders(bs=bs, seq_len=sl)"
      ],
      "execution_count": null,
      "outputs": []
    },
    {
      "cell_type": "code",
      "metadata": {
        "colab": {
          "base_uri": "https://localhost:8080/",
          "height": 519
        },
        "id": "xpbniW8mOT_g",
        "outputId": "83aaae79-c35d-4192-920e-8e62869e01ec"
      },
      "source": [
        "dls.show_batch(max_n=2)"
      ],
      "execution_count": 15,
      "outputs": [
        {
          "output_type": "display_data",
          "data": {
            "text/html": [
              "<table border=\"1\" class=\"dataframe\">\n",
              "  <thead>\n",
              "    <tr style=\"text-align: right;\">\n",
              "      <th></th>\n",
              "      <th>text</th>\n",
              "      <th>text_</th>\n",
              "    </tr>\n",
              "  </thead>\n",
              "  <tbody>\n",
              "    <tr>\n",
              "      <th>0</th>\n",
              "      <td>By the far Samoan shore,\\nWhere the league-long rollers pour\\nAll the wash of the Pacific on the coral-guarded bay,\\nRiding lightly at their ease,\\nIn the calm of tropic seas,\\nThe three great nations' warships at their anchors proudly lay.\\nRiding lightly, head to wind,\\nWith the coral reefs behind,\\nThree German and three Yankee ships were mirrored in the blue;\\nAnd on one ship unfurled\\nWas the flag that rules the world --\\nFor on the old Calliope the flag of England flew.\\nWhen the gentle off-shore breeze,\\nThat had scarcely stirred the trees,\\nDropped down to utter stillness, and the glass began to fall,\\nAway across the main\\nLowered the coming hurricane,\\nAnd far away to seaward hung the cloud-wrack like a pall.\\nIf the word had passed around,\\n\"Let us move to safer ground;\\nLet us steam away to seaward\" -- then his tale were not to tell!\\nBut each Captain seemed to say\\n\"If the others stay, I stay!\"\\nAnd they lingered at their moorings till the shades</td>\n",
              "      <td>the far Samoan shore,\\nWhere the league-long rollers pour\\nAll the wash of the Pacific on the coral-guarded bay,\\nRiding lightly at their ease,\\nIn the calm of tropic seas,\\nThe three great nations' warships at their anchors proudly lay.\\nRiding lightly, head to wind,\\nWith the coral reefs behind,\\nThree German and three Yankee ships were mirrored in the blue;\\nAnd on one ship unfurled\\nWas the flag that rules the world --\\nFor on the old Calliope the flag of England flew.\\nWhen the gentle off-shore breeze,\\nThat had scarcely stirred the trees,\\nDropped down to utter stillness, and the glass began to fall,\\nAway across the main\\nLowered the coming hurricane,\\nAnd far away to seaward hung the cloud-wrack like a pall.\\nIf the word had passed around,\\n\"Let us move to safer ground;\\nLet us steam away to seaward\" -- then his tale were not to tell!\\nBut each Captain seemed to say\\n\"If the others stay, I stay!\"\\nAnd they lingered at their moorings till the shades</td>\n",
              "    </tr>\n",
              "    <tr>\n",
              "      <th>1</th>\n",
              "      <td>the web grow,\\nAnd the pattern expand.\\nShe wove a child's jacket,\\nAnd when it was done\\nShe laid it on the floor\\nAnd wove another one.\\nShe wove a red cloak\\nSo regal to see,\\n\"She's made it for a king's son,\"\\nI said, \"and not for me.\"\\nBut I knew it was for me.\\nShe wove a pair of breeches\\nQuicker than that!\\nShe wove a pair of boots\\nAnd a little cocked hat.\\nShe wove a pair of mittens,\\nShw wove a little blouse,\\nShe wove all night\\nIn the still, cold house.\\nShe sang as she worked,\\nAnd the harp-strings spoke;\\nHer voice never faltered,\\nAnd the thread never broke,\\nAnd when I awoke,—\\nThere sat my mother\\nWith the harp against her shoulder,\\nLooking nineteeen,\\nAnd not a day older,\\nA smile about her lips,\\nAnd a light about her head,\\nAnd her hands in the harp-strings\\nFrozen dead.\\nAnd piled beside her\\nAnd toppling to the skies,</td>\n",
              "      <td>web grow,\\nAnd the pattern expand.\\nShe wove a child's jacket,\\nAnd when it was done\\nShe laid it on the floor\\nAnd wove another one.\\nShe wove a red cloak\\nSo regal to see,\\n\"She's made it for a king's son,\"\\nI said, \"and not for me.\"\\nBut I knew it was for me.\\nShe wove a pair of breeches\\nQuicker than that!\\nShe wove a pair of boots\\nAnd a little cocked hat.\\nShe wove a pair of mittens,\\nShw wove a little blouse,\\nShe wove all night\\nIn the still, cold house.\\nShe sang as she worked,\\nAnd the harp-strings spoke;\\nHer voice never faltered,\\nAnd the thread never broke,\\nAnd when I awoke,—\\nThere sat my mother\\nWith the harp against her shoulder,\\nLooking nineteeen,\\nAnd not a day older,\\nA smile about her lips,\\nAnd a light about her head,\\nAnd her hands in the harp-strings\\nFrozen dead.\\nAnd piled beside her\\nAnd toppling to the skies,\\n</td>\n",
              "    </tr>\n",
              "  </tbody>\n",
              "</table>"
            ],
            "text/plain": [
              "<IPython.core.display.HTML object>"
            ]
          },
          "metadata": {
            "tags": []
          }
        }
      ]
    },
    {
      "cell_type": "markdown",
      "metadata": {
        "id": "kMFnNw748QhY"
      },
      "source": [
        "## Fine-tuning the model"
      ]
    },
    {
      "cell_type": "code",
      "metadata": {
        "id": "jkJCLFncOcqV"
      },
      "source": [
        "class DropOutput(Callback):\r\n",
        "    def after_pred(self): self.learn.pred = self.pred[0]"
      ],
      "execution_count": 16,
      "outputs": []
    },
    {
      "cell_type": "code",
      "metadata": {
        "id": "669gGIAuOeJ8"
      },
      "source": [
        "learn = Learner(dls, model, loss_func=CrossEntropyLossFlat(), cbs=[DropOutput], metrics=Perplexity()).to_fp16()"
      ],
      "execution_count": 17,
      "outputs": []
    },
    {
      "cell_type": "code",
      "metadata": {
        "colab": {
          "base_uri": "https://localhost:8080/",
          "height": 34
        },
        "id": "Z7ZPcyW8Oh0_",
        "outputId": "ef19c779-2e66-41c4-cad8-e908400c1752"
      },
      "source": [
        "learn.validate()"
      ],
      "execution_count": 18,
      "outputs": [
        {
          "output_type": "display_data",
          "data": {
            "text/html": [
              ""
            ],
            "text/plain": [
              "<IPython.core.display.HTML object>"
            ]
          },
          "metadata": {
            "tags": []
          }
        },
        {
          "output_type": "execute_result",
          "data": {
            "text/plain": [
              "(#2) [4.183791637420654,65.61416625976562]"
            ]
          },
          "metadata": {
            "tags": []
          },
          "execution_count": 18
        }
      ]
    },
    {
      "cell_type": "code",
      "metadata": {
        "colab": {
          "base_uri": "https://localhost:8080/",
          "height": 301
        },
        "id": "ykYFFlCBOnqp",
        "outputId": "27dae545-3669-4386-d399-76a8da0f964f"
      },
      "source": [
        "learn.lr_find()"
      ],
      "execution_count": 19,
      "outputs": [
        {
          "output_type": "display_data",
          "data": {
            "text/html": [
              ""
            ],
            "text/plain": [
              "<IPython.core.display.HTML object>"
            ]
          },
          "metadata": {
            "tags": []
          }
        },
        {
          "output_type": "execute_result",
          "data": {
            "text/plain": [
              "SuggestedLRs(lr_min=0.02089296132326126, lr_steep=0.17378008365631104)"
            ]
          },
          "metadata": {
            "tags": []
          },
          "execution_count": 19
        },
        {
          "output_type": "display_data",
          "data": {
            "image/png": "[encoded data removed]",
            "text/plain": [
              "<Figure size 432x288 with 1 Axes>"
            ]
          },
          "metadata": {
            "tags": [],
            "needs_background": "light"
          }
        }
      ]
    },
    {
      "cell_type": "code",
      "metadata": {
        "colab": {
          "base_uri": "https://localhost:8080/",
          "height": 80
        },
        "id": "PKySv6QiOvom",
        "outputId": "ac533474-0ec1-4ddd-910c-c47e93098c96"
      },
      "source": [
        "learn.fit_one_cycle(1, 1e-4)"
      ],
      "execution_count": 20,
      "outputs": [
        {
          "output_type": "display_data",
          "data": {
            "text/html": [
              "<table border=\"1\" class=\"dataframe\">\n",
              "  <thead>\n",
              "    <tr style=\"text-align: left;\">\n",
              "      <th>epoch</th>\n",
              "      <th>train_loss</th>\n",
              "      <th>valid_loss</th>\n",
              "      <th>perplexity</th>\n",
              "      <th>time</th>\n",
              "    </tr>\n",
              "  </thead>\n",
              "  <tbody>\n",
              "    <tr>\n",
              "      <td>0</td>\n",
              "      <td>4.161057</td>\n",
              "      <td>3.904099</td>\n",
              "      <td>49.605377</td>\n",
              "      <td>00:34</td>\n",
              "    </tr>\n",
              "  </tbody>\n",
              "</table>"
            ],
            "text/plain": [
              "<IPython.core.display.HTML object>"
            ]
          },
          "metadata": {
            "tags": []
          }
        }
      ]
    },
    {
      "cell_type": "markdown",
      "metadata": {
        "id": "fdLpyolz8bV7"
      },
      "source": [
        "## Poem Generation Example"
      ]
    },
    {
      "cell_type": "code",
      "metadata": {
        "colab": {
          "base_uri": "https://localhost:8080/"
        },
        "id": "D0zOA5wXPDEv",
        "outputId": "27f4d6c1-e3af-4416-99cc-a071130a81c7"
      },
      "source": [
        "prompt = 'love is ridiculous'\r\n",
        "prompt_ids = tokenizer.encode(prompt)\r\n",
        "inp = tensor(prompt_ids)[None].cuda()\r\n",
        "inp.shape"
      ],
      "execution_count": 21,
      "outputs": [
        {
          "output_type": "execute_result",
          "data": {
            "text/plain": [
              "torch.Size([1, 3])"
            ]
          },
          "metadata": {
            "tags": []
          },
          "execution_count": 21
        }
      ]
    },
    {
      "cell_type": "markdown",
      "metadata": {
        "id": "_ONkBFg482US"
      },
      "source": [
        "Adding the `num_beams` and `no_repeat_ngram_size` arguments make a huge difference. This can be explained [here](https://huggingface.co/blog/how-to-generate). Basically beam search reduces the risk of missing hidden high probability word sequences by keeping the most likely num_beams of hypotheses at each time step and eventually choosing the hypothesis that has the overall highest probability. Without beam search you will obtain a more greedy search. Beam search will always find an output sequence with higher probability than greedy search, but is not guaranteed to find the most likely output. Moreover, without the `no_repeat_ngram_size` you will likely obtain a repeated output. Thus we add a penalty that makes sure that no n-gram appears twice by manually setting the probability of next words that could create an already seen n-gram to 0."
      ]
    },
    {
      "cell_type": "code",
      "metadata": {
        "colab": {
          "base_uri": "https://localhost:8080/"
        },
        "id": "V39qs4aX4_3B",
        "outputId": "31c2beac-22e8-4989-8826-fc50125b80e5"
      },
      "source": [
        "preds = learn.model.generate(inp, max_length=60, num_beams=5, no_repeat_ngram_size=2, early_stopping=True)\r\n",
        "print(\"Output:\\n\" + 100 * '-')\r\n",
        "print(tokenizer.decode(preds[0].cpu().numpy(), skip_special_tokens=True))"
      ],
      "execution_count": 25,
      "outputs": [
        {
          "output_type": "stream",
          "text": [
            "Setting `pad_token_id` to `eos_token_id`:50256 for open-end generation.\n"
          ],
          "name": "stderr"
        },
        {
          "output_type": "stream",
          "text": [
            "Output:\n",
            "----------------------------------------------------------------------------------------------------\n",
            "love is ridiculous,\n",
            "And I am a fool.\n",
            "I am not a man of the world;\n",
            "But if I were, I would not be\n",
            "A fool.\"\n",
            "\"And what is the matter with you?\n",
            "You are a liar, and you know\n",
            "What you are talking about\n"
          ],
          "name": "stdout"
        }
      ]
    },
    {
      "cell_type": "code",
      "metadata": {
        "colab": {
          "base_uri": "https://localhost:8080/"
        },
        "id": "gEeoQrHrPb8c",
        "outputId": "9d54d66a-654d-40c5-d87a-c9774e2c4ce0"
      },
      "source": [
        "prompt = \"I don't know what I would do\"\r\n",
        "prompt_ids = tokenizer.encode(prompt)\r\n",
        "inp = tensor(prompt_ids)[None].cuda()\r\n",
        "preds = learn.model.generate(inp, max_length=60, num_beams=5, no_repeat_ngram_size=2, early_stopping=True)\r\n",
        "print(\"Output:\\n\" + 100 * '-')\r\n",
        "print(tokenizer.decode(preds[0].cpu().numpy(), skip_special_tokens=True))"
      ],
      "execution_count": 26,
      "outputs": [
        {
          "output_type": "stream",
          "text": [
            "Setting `pad_token_id` to `eos_token_id`:50256 for open-end generation.\n"
          ],
          "name": "stderr"
        },
        {
          "output_type": "stream",
          "text": [
            "Output:\n",
            "----------------------------------------------------------------------------------------------------\n",
            "I don't know what I would do with my life,\n",
            "But I know that I am a man of God.\n",
            "\"I am not afraid of death, nor am I afraid to die;\n",
            "And if I die, I will die with a smile on my face.\"\n",
            "He went on\n"
          ],
          "name": "stdout"
        }
      ]
    }
  ]
}